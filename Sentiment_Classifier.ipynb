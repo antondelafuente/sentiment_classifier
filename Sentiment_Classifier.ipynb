{
  "nbformat": 4,
  "nbformat_minor": 0,
  "metadata": {
    "kernelspec": {
      "display_name": "Python 3",
      "language": "python",
      "name": "python3"
    },
    "language_info": {
      "codemirror_mode": {
        "name": "ipython",
        "version": 3
      },
      "file_extension": ".py",
      "mimetype": "text/x-python",
      "name": "python",
      "nbconvert_exporter": "python",
      "pygments_lexer": "ipython3",
      "version": "3.8.5"
    },
    "colab": {
      "name": "Sentiment_Classifier.ipynb",
      "provenance": [],
      "collapsed_sections": [],
      "machine_shape": "hm"
    },
    "accelerator": "GPU"
  },
  "cells": [
    {
      "cell_type": "markdown",
      "metadata": {
        "id": "0UEfQkZD3_M2"
      },
      "source": [
        "This notebook implements a two category sentiment classification on the Stanford Sentiment Treebank dataset (SST-2). We fine tune BERT with a linear classifier on the output of the [CLS] input token."
      ]
    },
    {
      "cell_type": "code",
      "metadata": {
        "id": "v1qwdufxFoxz"
      },
      "source": [
        "!pip install transformers"
      ],
      "execution_count": null,
      "outputs": []
    },
    {
      "cell_type": "code",
      "metadata": {
        "id": "D2Wv8QKiFaQm"
      },
      "source": [
        "from nltk.tree import Tree\n",
        "import torch\n",
        "import torch.nn as nn\n",
        "from transformers import BertModel, BertTokenizer\n",
        "from torch.utils.data import Dataset, DataLoader\n",
        "\n",
        "device = torch.device('cuda' if torch.cuda.is_available() else 'cpu')"
      ],
      "execution_count": 2,
      "outputs": []
    },
    {
      "cell_type": "markdown",
      "metadata": {
        "id": "fssSqQm78FZD"
      },
      "source": [
        "Now we download the Stanford Sentiment Treebank data set."
      ]
    },
    {
      "cell_type": "code",
      "metadata": {
        "id": "gD6xqK9Y2Tls"
      },
      "source": [
        "import requests, zipfile, io\n",
        "r = requests.get( 'https://nlp.stanford.edu/sentiment/trainDevTestTrees_PTB.zip' )\n",
        "z = zipfile.ZipFile(io.BytesIO(r.content))\n",
        "z.extractall()"
      ],
      "execution_count": 3,
      "outputs": []
    },
    {
      "cell_type": "markdown",
      "metadata": {
        "id": "MWpxFCSEoYle"
      },
      "source": [
        "The data is in a tree format with 5 categories of sentiment. The following function reads in the data and flattens each tree into a string. It also reduces the 5 categories to just 2 (postive and negative)."
      ]
    },
    {
      "cell_type": "code",
      "metadata": {
        "id": "6LvRjaxXFaQ_"
      },
      "source": [
        "def sentiment_treebank_reader(filename):\n",
        "    with open(filename, encoding='utf8') as f:\n",
        "        X, y = [], []\n",
        "        for line in f:\n",
        "            tree = Tree.fromstring(line)\n",
        "            label = int(tree.label())\n",
        "            string = \" \".join(tree.leaves())\n",
        "\n",
        "            if label == 0 or label == 1: \n",
        "                y.append(0)\n",
        "                X.append(string)\n",
        "                \n",
        "            elif label == 3 or label == 4:\n",
        "                y.append(1)\n",
        "                X.append(string)\n",
        "    return X, y"
      ],
      "execution_count": 4,
      "outputs": []
    },
    {
      "cell_type": "code",
      "metadata": {
        "id": "loD5HyuOFaRA"
      },
      "source": [
        "X_str_dev, y_dev = sentiment_treebank_reader('trees/dev.txt')\n",
        "X_str_train, y_train = sentiment_treebank_reader('trees/train.txt')\n",
        "X_str_test, y_test = sentiment_treebank_reader('trees/test.txt')"
      ],
      "execution_count": 5,
      "outputs": []
    },
    {
      "cell_type": "markdown",
      "metadata": {
        "id": "-dGWqR8atfoH"
      },
      "source": [
        "We now define a dataset class in which the data consists of Bert-tokenized versions of the string data we just read in."
      ]
    },
    {
      "cell_type": "code",
      "metadata": {
        "id": "Hf2IVqAxFaRB"
      },
      "source": [
        "class SentimentDataset(Dataset):\n",
        "    def __init__(self, strings, labels):\n",
        "        self.strings = strings\n",
        "        self.labels = labels\n",
        "        self.tokenizer = BertTokenizer.from_pretrained('bert-base-cased')\n",
        "        \n",
        "    def __getitem__(self, index):\n",
        "        string = self.strings[index]\n",
        "        label = self.labels[index]\n",
        "        \n",
        "        encoding = self.tokenizer.encode_plus(string, \n",
        "                    add_special_tokens=True, return_attention_mask=True, padding='max_length')\n",
        "        return (\n",
        "                torch.tensor(encoding['input_ids']).to(device), \n",
        "                torch.tensor(encoding['attention_mask']).to(device), \n",
        "                torch.tensor(label, dtype=torch.long).to(device)\n",
        "        )\n",
        "    \n",
        "    def __len__(self):\n",
        "        return len(self.strings)"
      ],
      "execution_count": 6,
      "outputs": []
    },
    {
      "cell_type": "code",
      "metadata": {
        "id": "A80WZfWhFaRB"
      },
      "source": [
        "train_set = SentimentDataset(X_str_train, y_train)\n",
        "dev_set = SentimentDataset(X_str_dev, y_dev)\n",
        "test_set = SentimentDataset(X_str_test, y_test)\n",
        "\n",
        "train_loader = DataLoader(train_set, batch_size=16)\n",
        "dev_loader = DataLoader(dev_set, batch_size=16)\n",
        "test_loader = DataLoader(test_set, batch_size=16)"
      ],
      "execution_count": null,
      "outputs": []
    },
    {
      "cell_type": "markdown",
      "metadata": {
        "id": "ckg0hVVQuRKM"
      },
      "source": [
        "The model is Bert with a classifier on the [CLS] output. We will then fine-tune the entire model on the training data."
      ]
    },
    {
      "cell_type": "code",
      "metadata": {
        "id": "mfqP5ePcFaRC"
      },
      "source": [
        "class SentimentClassifier(nn.Module):\n",
        "    def __init__(self):\n",
        "        super().__init__()\n",
        "        self.bert = BertModel.from_pretrained('bert-base-cased')\n",
        "        self.classifier_layer = nn.Linear(768, 2)\n",
        "    \n",
        "    def forward(self, indices, mask):\n",
        "        cls_output = self.bert(indices, attention_mask=mask)['pooler_output']\n",
        "        return self.classifier_layer(cls_output)"
      ],
      "execution_count": 8,
      "outputs": []
    },
    {
      "cell_type": "code",
      "metadata": {
        "id": "YVm2EP5sFaRC"
      },
      "source": [
        "model = SentimentClassifier()\n",
        "model.to(device)\n",
        "criterion = nn.CrossEntropyLoss().to(device)\n",
        "optimizer = torch.optim.AdamW(model.parameters(), lr=2e-5)"
      ],
      "execution_count": null,
      "outputs": []
    },
    {
      "cell_type": "markdown",
      "metadata": {
        "id": "1zG-E-iSuyGZ"
      },
      "source": [
        "This helper function evaluates the loss and accuracy on a given dataset."
      ]
    },
    {
      "cell_type": "code",
      "metadata": {
        "id": "1a3KUePGfIVo"
      },
      "source": [
        "def evaluate_model(model, data_loader, criterion, length):\n",
        "    model.eval()\n",
        "    with torch.no_grad():\n",
        "        total_loss = 0\n",
        "        correct_predictions = 0\n",
        "        for inputs, masks, labels in data_loader:\n",
        "            outputs = model(inputs, masks)\n",
        "            _, preds = torch.max(outputs, dim=1)\n",
        "            loss = criterion(outputs, labels)\n",
        "            correct_predictions += torch.sum(preds == labels)\n",
        "            total_loss += loss.item()\n",
        "    return total_loss, correct_predictions.item() / length"
      ],
      "execution_count": 10,
      "outputs": []
    },
    {
      "cell_type": "markdown",
      "metadata": {
        "id": "CyG_ZIuYzwue"
      },
      "source": [
        "Here is the training loop."
      ]
    },
    {
      "cell_type": "code",
      "metadata": {
        "colab": {
          "base_uri": "https://localhost:8080/"
        },
        "id": "vA1R3JHRFaRC",
        "outputId": "778180ae-ac87-4b55-dd21-b6fc41635231"
      },
      "source": [
        "for epoch in range(2):\n",
        "    print('Epoch', epoch + 1)\n",
        "    model.train()\n",
        "\n",
        "    for inputs, masks, labels in train_loader:\n",
        "        optimizer.zero_grad()\n",
        "        outputs = model(inputs, masks)\n",
        "        loss = criterion(outputs, labels)\n",
        "        loss.backward()\n",
        "        optimizer.step()\n",
        "\n",
        "    train_loss, train_acc = evaluate_model(model, train_loader, criterion, len(train_set))\n",
        "    dev_loss, dev_acc = evaluate_model(model, dev_loader, criterion, len(dev_set))\n",
        "    print('Train loss', train_loss, '  accuracy', train_acc)\n",
        "    print('Dev   loss', dev_loss, '  accuracy', dev_acc)"
      ],
      "execution_count": 11,
      "outputs": [
        {
          "output_type": "stream",
          "text": [
            "Epoch 1\n",
            "Train loss 212.257440879941   accuracy 0.8419075144508671\n",
            "Dev   loss 27.262029767036438   accuracy 0.8245412844036697\n",
            "Epoch 2\n",
            "Train loss 84.08612885326147   accuracy 0.9209537572254335\n",
            "Dev   loss 17.401812944561243   accuracy 0.8658256880733946\n"
          ],
          "name": "stdout"
        }
      ]
    },
    {
      "cell_type": "code",
      "metadata": {
        "id": "mj9BuVtGgGOk",
        "colab": {
          "base_uri": "https://localhost:8080/"
        },
        "outputId": "b31db694-e377-49d3-e4d2-7da24cdd8f2a"
      },
      "source": [
        "_, test_acc = evaluate_model(model, test_loader, criterion, len(test_set))\n",
        "print('Test accuracy', test_acc)"
      ],
      "execution_count": 12,
      "outputs": [
        {
          "output_type": "stream",
          "text": [
            "Test accuracy 0.870950027457441\n"
          ],
          "name": "stdout"
        }
      ]
    },
    {
      "cell_type": "markdown",
      "metadata": {
        "id": "Yn7xcqSOAZCL"
      },
      "source": [
        "You can see how this compares with the sota over time [here.](https://paperswithcode.com/sota/sentiment-analysis-on-sst-2-binary)"
      ]
    }
  ]
}